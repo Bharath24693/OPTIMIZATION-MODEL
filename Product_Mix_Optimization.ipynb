from pulp import LpMaximize, LpProblem, LpVariable, value
import matplotlib.pyplot as plt
import numpy as np

# Define the LP problem
model = LpProblem("Maximize_Profit", LpMaximize)

# Define decision variables
A = LpVariable("Product_A", lowBound=0, cat='Continuous')
B = LpVariable("Product_B", lowBound=0, cat='Continuous')

# Objective function: Maximize profit
model += 40 * A + 50 * B, "Total_Profit"

# Constraints
model += 2 * A + 3 * B <= 400, "Labor_Hours_Constraint"
model += 1 * A + 2 * B <= 300, "Material_Constraint"

# Solve the problem
model.solve()

# Print results
print("📈 OPTIMIZATION RESULT")
print("-----------------------")
print(f"Status       : {model.status}")
print(f"Product A    : {A.varValue:.2f} units")
print(f"Product B    : {B.varValue:.2f} units")
print(f"Max Profit   : ${value(model.objective):.2f}")

# Plotting the feasible region
x_vals = np.linspace(0, 200, 400)
y1 = (400 - 2 * x_vals) / 3
y2 = (300 - 1 * x_vals) / 2

plt.figure(figsize=(8, 6))
plt.plot(x_vals, y1, label="Labor Constraint")
plt.plot(x_vals, y2, label="Material Constraint")
plt.fill_between(x_vals, 0, np.minimum(y1, y2), where=(y1 >= 0) & (y2 >= 0), color='skyblue', alpha=0.4)
plt.plot(A.varValue, B.varValue, 'ro', label='Optimal Solution')
plt.xlabel("Product A")
plt.ylabel("Product B")
plt.title("Feasible Region and Optimal Solution")
plt.legend()
plt.grid(True)
plt.xlim(0, 200)
plt.ylim(0, 200)
plt.show()

# Insights
print("\n📌 INSIGHTS")
print("The company should produce:")
print(f"- Product A: {A.varValue:.0f} units")
print(f"- Product B: {B.varValue:.0f} units")
print(f"This yields a maximum profit of ${value(model.objective):.2f}")
